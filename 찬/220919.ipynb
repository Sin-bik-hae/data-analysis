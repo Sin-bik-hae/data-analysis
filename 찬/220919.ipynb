{
 "cells": [
  {
   "cell_type": "markdown",
   "metadata": {},
   "source": [
    "# 데이터 불러오기"
   ]
  },
  {
   "cell_type": "code",
   "execution_count": 1,
   "metadata": {},
   "outputs": [
    {
     "data": {
      "text/plain": [
       "<bound method NDFrame.head of        P1     P2  P3  P4  P5  P6   P7  B1  B2  B3  ...  B165  B166      B167  \\\n",
       "0       M  20대_후   1   1   0   0  A은행   0   0   0  ...     0     0   4350000   \n",
       "1       M  50대_후   1   0   0   0  A은행   0   0   0  ...     0     0    580000   \n",
       "2       M  40대_후   1   1   0   0  A은행   0   0   0  ...     0     0   1950000   \n",
       "3       F  60대_초   1   1   0   0  A은행   0   0   0  ...     0     0  43000000   \n",
       "4       M  30대_후   0   1   0   0  B은행   0   0   0  ...     0     0   4910000   \n",
       "...    ..    ...  ..  ..  ..  ..  ...  ..  ..  ..  ...   ...   ...       ...   \n",
       "473223  F  40대_초   0   1   0   1  B은행   0   0   0  ...     0     0    650000   \n",
       "473224  M  20대_후   1   1   0   0  A은행   0   0   0  ...     0     0   4790000   \n",
       "473225  F  40대_후   1   1   1   0  B은행   0   0   0  ...     0     0   1650000   \n",
       "473226  M  60대_후   1   1   1   0  A은행   0   0   0  ...     0     0   1340000   \n",
       "473227  F  50대_초   1   0   0   0  B은행   0   0   0  ...     0     0    750000   \n",
       "\n",
       "         C1            E1            E2            E3  E4            E5  \\\n",
       "0       210  0.000000e+00  0.000000e+00  1.111111e+10   0  1.111110e+11   \n",
       "1        40  0.000000e+00  0.000000e+00  0.000000e+00   0  1.111100e+11   \n",
       "2        50  0.000000e+00  1.101101e+09  0.000000e+00   0  1.111010e+11   \n",
       "3        50  0.000000e+00  0.000000e+00  0.000000e+00   0  1.111110e+11   \n",
       "4        40  0.000000e+00  1.111110e+11  0.000000e+00   0  1.111110e+11   \n",
       "...     ...           ...           ...           ...  ..           ...   \n",
       "473223   30  1.111110e+11  1.000100e+10  0.000000e+00   0  1.111110e+11   \n",
       "473224   50  0.000000e+00  1.101100e+11  0.000000e+00   0  1.111110e+11   \n",
       "473225   60  0.000000e+00  1.001000e+08  0.000000e+00   0  1.111110e+11   \n",
       "473226   50  0.000000e+00  1.001010e+08  0.000000e+00   0  1.111110e+11   \n",
       "473227   30  0.000000e+00  1.000000e+03  0.000000e+00   0  1.100100e+10   \n",
       "\n",
       "                  E6  \n",
       "0       1.100000e+09  \n",
       "1       1.000000e+10  \n",
       "2       1.011010e+11  \n",
       "3       1.111110e+11  \n",
       "4       1.111110e+11  \n",
       "...              ...  \n",
       "473223  1.011111e+10  \n",
       "473224  1.111110e+11  \n",
       "473225  1.111110e+11  \n",
       "473226  1.101010e+11  \n",
       "473227  1.000000e+03  \n",
       "\n",
       "[473228 rows x 181 columns]>"
      ]
     },
     "execution_count": 1,
     "metadata": {},
     "output_type": "execute_result"
    }
   ],
   "source": [
    "import pandas as pd\n",
    "import numpy as np\n",
    "\n",
    "file_path = r\"C:\\Users\\alllh\\Documents\\대학\\공모전-신.빅.해\\data_038_1.csv\"\n",
    "\n",
    "df = pd.read_csv(file_path)\n",
    "df.head"
   ]
  },
  {
   "cell_type": "markdown",
   "metadata": {},
   "source": [
    "# 스키마 정보 불러오기"
   ]
  },
  {
   "cell_type": "code",
   "execution_count": 26,
   "metadata": {},
   "outputs": [
    {
     "data": {
      "text/html": [
       "<div>\n",
       "<style scoped>\n",
       "    .dataframe tbody tr th:only-of-type {\n",
       "        vertical-align: middle;\n",
       "    }\n",
       "\n",
       "    .dataframe tbody tr th {\n",
       "        vertical-align: top;\n",
       "    }\n",
       "\n",
       "    .dataframe thead th {\n",
       "        text-align: right;\n",
       "    }\n",
       "</style>\n",
       "<table border=\"1\" class=\"dataframe\">\n",
       "  <thead>\n",
       "    <tr style=\"text-align: right;\">\n",
       "      <th></th>\n",
       "      <th>정보원천</th>\n",
       "      <th>정보형태</th>\n",
       "      <th>컬럼명</th>\n",
       "      <th>정보영역</th>\n",
       "      <th>항목명(국문)</th>\n",
       "      <th>항목 설명</th>\n",
       "    </tr>\n",
       "  </thead>\n",
       "  <tbody>\n",
       "    <tr>\n",
       "      <th>0</th>\n",
       "      <td>내부정보</td>\n",
       "      <td>성별</td>\n",
       "      <td>P1</td>\n",
       "      <td>신청정보</td>\n",
       "      <td>성별</td>\n",
       "      <td>M: 남자, F: 여자</td>\n",
       "    </tr>\n",
       "    <tr>\n",
       "      <th>1</th>\n",
       "      <td>내부정보</td>\n",
       "      <td>코드</td>\n",
       "      <td>P2</td>\n",
       "      <td>신청정보</td>\n",
       "      <td>나이</td>\n",
       "      <td>초반: 0 ~ 4, 후반: 5 ~ 9</td>\n",
       "    </tr>\n",
       "    <tr>\n",
       "      <th>2</th>\n",
       "      <td>내부정보</td>\n",
       "      <td>코드</td>\n",
       "      <td>P3</td>\n",
       "      <td>신청정보</td>\n",
       "      <td>은행활동고객TF</td>\n",
       "      <td>신한카드 내부 그룹 Tops 정보를 활용하여 추정한 값</td>\n",
       "    </tr>\n",
       "    <tr>\n",
       "      <th>3</th>\n",
       "      <td>내부정보</td>\n",
       "      <td>코드</td>\n",
       "      <td>P4</td>\n",
       "      <td>신청정보</td>\n",
       "      <td>카드우수고객TF</td>\n",
       "      <td>신한카드 VIP 등급 유/무</td>\n",
       "    </tr>\n",
       "    <tr>\n",
       "      <th>4</th>\n",
       "      <td>내부정보</td>\n",
       "      <td>코드</td>\n",
       "      <td>P5</td>\n",
       "      <td>신청정보</td>\n",
       "      <td>금투활동고객TF</td>\n",
       "      <td>신한카드 내부 그룹 Tops 정보를 활용하여 추정한 값</td>\n",
       "    </tr>\n",
       "  </tbody>\n",
       "</table>\n",
       "</div>"
      ],
      "text/plain": [
       "   정보원천 정보형태 컬럼명  정보영역   항목명(국문)                           항목 설명\n",
       "0  내부정보   성별  P1  신청정보        성별                    M: 남자, F: 여자\n",
       "1  내부정보   코드  P2  신청정보        나이            초반: 0 ~ 4, 후반: 5 ~ 9\n",
       "2  내부정보   코드  P3  신청정보  은행활동고객TF  신한카드 내부 그룹 Tops 정보를 활용하여 추정한 값\n",
       "3  내부정보   코드  P4  신청정보  카드우수고객TF                 신한카드 VIP 등급 유/무\n",
       "4  내부정보   코드  P5  신청정보  금투활동고객TF  신한카드 내부 그룹 Tops 정보를 활용하여 추정한 값"
      ]
     },
     "execution_count": 26,
     "metadata": {},
     "output_type": "execute_result"
    }
   ],
   "source": [
    "from openpyxl import load_workbook\n",
    "\n",
    "schema_path = r\"C:\\Users\\alllh\\Documents\\대학\\공모전-신.빅.해\\schema.xlsx\"\n",
    "\n",
    "wb = load_workbook(filename=schema_path, \n",
    "                   read_only=True)\n",
    "ws = wb['1. 데이터명세']\n",
    "\n",
    "data_rows = []\n",
    "for row in ws['C12':'H192']:\n",
    "    data_cols = []\n",
    "    for cell in row:\n",
    "        data_cols.append(cell.value)\n",
    "    data_rows.append(data_cols)\n",
    "\n",
    "# Transform into dataframe\n",
    "_schema = pd.DataFrame(data_rows, columns=[\"정보원천\",\"정보형태\",\"컬럼명\",\"정보영역\",\"항목명(국문)\",\"항목 설명\"])\n",
    "_schema.head()"
   ]
  },
  {
   "cell_type": "markdown",
   "metadata": {},
   "source": [
    "# 데이터 분류"
   ]
  },
  {
   "cell_type": "code",
   "execution_count": 9,
   "metadata": {},
   "outputs": [],
   "source": [
    "df_p = df.iloc[:, :7]       # 신청정보: 22.6月 신한카드 여신 서비스 신청과 관련된 정보\t\t\n",
    "df_b = df.iloc[:, 7:174]    # 결제정보: 22.6月 신한카드를 통한 결제정보\t\t\n",
    "df_c = df.iloc[:, 174]      # 이용건수\n",
    "df_e = df.iloc[:, 175:181]  # 기타정보: 21.5 ~ 22.5 이용 패턴 코드\n",
    "# 패턴코드: 1~12개월 이용 패턴 (12자리)\n",
    "# 해달 월 50만원 이상 사용 시 1\n",
    "# 해달 월 50만원 미만 사용 시 0"
   ]
  },
  {
   "cell_type": "code",
   "execution_count": 29,
   "metadata": {},
   "outputs": [
    {
     "data": {
      "text/html": [
       "<div>\n",
       "<style scoped>\n",
       "    .dataframe tbody tr th:only-of-type {\n",
       "        vertical-align: middle;\n",
       "    }\n",
       "\n",
       "    .dataframe tbody tr th {\n",
       "        vertical-align: top;\n",
       "    }\n",
       "\n",
       "    .dataframe thead th {\n",
       "        text-align: right;\n",
       "    }\n",
       "</style>\n",
       "<table border=\"1\" class=\"dataframe\">\n",
       "  <thead>\n",
       "    <tr style=\"text-align: right;\">\n",
       "      <th></th>\n",
       "      <th>정보원천</th>\n",
       "      <th>정보형태</th>\n",
       "      <th>컬럼명</th>\n",
       "      <th>정보영역</th>\n",
       "      <th>항목명(국문)</th>\n",
       "      <th>항목 설명</th>\n",
       "    </tr>\n",
       "  </thead>\n",
       "  <tbody>\n",
       "    <tr>\n",
       "      <th>175</th>\n",
       "      <td>내부정보</td>\n",
       "      <td>코드</td>\n",
       "      <td>E1</td>\n",
       "      <td>기타정보</td>\n",
       "      <td>리볼빙신판이용패턴코드</td>\n",
       "      <td>1~12개월</td>\n",
       "    </tr>\n",
       "    <tr>\n",
       "      <th>176</th>\n",
       "      <td>내부정보</td>\n",
       "      <td>코드</td>\n",
       "      <td>E2</td>\n",
       "      <td>기타정보</td>\n",
       "      <td>할부이용패턴코드</td>\n",
       "      <td>1~12개월</td>\n",
       "    </tr>\n",
       "    <tr>\n",
       "      <th>177</th>\n",
       "      <td>내부정보</td>\n",
       "      <td>코드</td>\n",
       "      <td>E3</td>\n",
       "      <td>기타정보</td>\n",
       "      <td>현금서비스이용패턴코드</td>\n",
       "      <td>1~12개월</td>\n",
       "    </tr>\n",
       "    <tr>\n",
       "      <th>178</th>\n",
       "      <td>내부정보</td>\n",
       "      <td>코드</td>\n",
       "      <td>E4</td>\n",
       "      <td>기타정보</td>\n",
       "      <td>론이용패턴코드</td>\n",
       "      <td>1~12개월</td>\n",
       "    </tr>\n",
       "    <tr>\n",
       "      <th>179</th>\n",
       "      <td>내부정보</td>\n",
       "      <td>코드</td>\n",
       "      <td>E5</td>\n",
       "      <td>기타정보</td>\n",
       "      <td>신판50만원이상이용패턴코드</td>\n",
       "      <td>1~12개월</td>\n",
       "    </tr>\n",
       "    <tr>\n",
       "      <th>180</th>\n",
       "      <td>내부정보</td>\n",
       "      <td>코드</td>\n",
       "      <td>E6</td>\n",
       "      <td>기타정보</td>\n",
       "      <td>신판100만원이상이용패턴코드</td>\n",
       "      <td>1~12개월</td>\n",
       "    </tr>\n",
       "  </tbody>\n",
       "</table>\n",
       "</div>"
      ],
      "text/plain": [
       "     정보원천 정보형태 컬럼명  정보영역          항목명(국문)   항목 설명\n",
       "175  내부정보   코드  E1  기타정보      리볼빙신판이용패턴코드  1~12개월\n",
       "176  내부정보   코드  E2  기타정보         할부이용패턴코드  1~12개월\n",
       "177  내부정보   코드  E3  기타정보      현금서비스이용패턴코드  1~12개월\n",
       "178  내부정보   코드  E4  기타정보          론이용패턴코드  1~12개월\n",
       "179  내부정보   코드  E5  기타정보   신판50만원이상이용패턴코드  1~12개월\n",
       "180  내부정보   코드  E6  기타정보  신판100만원이상이용패턴코드  1~12개월"
      ]
     },
     "execution_count": 29,
     "metadata": {},
     "output_type": "execute_result"
    }
   ],
   "source": [
    "schema_p = _schema.iloc[:7]       # 신청정보: 22.6月 신한카드 여신 서비스 신청과 관련된 정보\t\t\n",
    "schema_b = _schema.iloc[7:174]    # 결제정보: 22.6月 신한카드를 통한 결제정보\t\t\n",
    "schema_c = _schema.iloc[174:175]  # 이용건수\n",
    "schema_e = _schema.iloc[175:181]  # 기타정보: 21.5 ~ 22.5 이용 패턴 코드"
   ]
  },
  {
   "cell_type": "code",
   "execution_count": 15,
   "metadata": {},
   "outputs": [],
   "source": [
    "df_1 = df[df_p.iloc[:,2] == 1].reset_index()    # P3 = 1\n",
    "df_0 = df[df_p.iloc[:,2] == 0].reset_index()    # P3 = 0"
   ]
  },
  {
   "cell_type": "markdown",
   "metadata": {},
   "source": [
    "# 데이터 시각화"
   ]
  },
  {
   "cell_type": "code",
   "execution_count": null,
   "metadata": {},
   "outputs": [],
   "source": []
  }
 ],
 "metadata": {
  "kernelspec": {
   "display_name": "Python 3.10.4 ('kcw')",
   "language": "python",
   "name": "python3"
  },
  "language_info": {
   "codemirror_mode": {
    "name": "ipython",
    "version": 3
   },
   "file_extension": ".py",
   "mimetype": "text/x-python",
   "name": "python",
   "nbconvert_exporter": "python",
   "pygments_lexer": "ipython3",
   "version": "3.10.4"
  },
  "orig_nbformat": 4,
  "vscode": {
   "interpreter": {
    "hash": "ff03da73fdb925b7ead87efd6025f03aa3d83597b98b999789e04333f0946b01"
   }
  }
 },
 "nbformat": 4,
 "nbformat_minor": 2
}
