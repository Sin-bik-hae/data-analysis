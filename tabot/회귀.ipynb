{
 "cells": [
  {
   "cell_type": "code",
   "execution_count": 1,
   "id": "147c97df",
   "metadata": {},
   "outputs": [
    {
     "name": "stderr",
     "output_type": "stream",
     "text": [
      "UsageError: Cell magic `%%R` not found.\n"
     ]
    }
   ],
   "source": [
    "%%R\n",
    "fibomemo = local({\n",
    "  memo = c(1, 1, rep(NA, 100))\n",
    "  f = function(n){\n",
    "    if(n == 0)\n",
    "      return(0)\n",
    "    if(n < 0)\n",
    "      return(NA)\n",
    "    if(n > length(memo))\n",
    "      stop(\"'n' too big for implementation\")\n",
    "    if(!is.na(memo[n]))\n",
    "      return(memo[n])\n",
    "    ans = f(n-2) + f(n-1)\n",
    "    memo[n] = ans\n",
    "    ans\n",
    "  }\n",
    "})"
   ]
  },
  {
   "cell_type": "code",
   "execution_count": null,
   "id": "2ee2e09f",
   "metadata": {},
   "outputs": [],
   "source": [
    "%%R\n",
    "system.time(fibomemo(50))"
   ]
  },
  {
   "cell_type": "code",
   "execution_count": null,
   "id": "772b56dc",
   "metadata": {},
   "outputs": [],
   "source": [
    "!sudo apt install libgmp-dev\n",
    "!sudo apt-get install libmpfr-dev"
   ]
  },
  {
   "cell_type": "code",
   "execution_count": null,
   "id": "eb8f57cb",
   "metadata": {},
   "outputs": [],
   "source": [
    "%%R\n",
    "install.packages(\"tidyverse\")\n",
    "library(tidyverse)\n",
    "bank <- read_csv(\"/content/drive/MyDrive/데이터 분석/신빅해/data_038_1.csv\")\n",
    "nrow(bank)\n",
    "ncol(bank)\n",
    "head(bank)\n",
    "\n",
    "summary(bank)\n",
    "\n",
    "#logistic regression\n",
    "new_bank <- bank[,c(3,8:174)]\n",
    "head(new_bank)\n",
    "\n",
    "glm_bank <- glm(P3 ~ ., data = new_bank, family = binomial)\n",
    "summary(glm_bank) \n",
    "\n",
    "#selecting\n",
    "step_bank <- step(glm_bank, direction = \"backward\")\n",
    "\n",
    "#ÀÌÅ»µµ È®ÀÎ\n",
    "anova(glm_bank, test = \"Chisq\")"
   ]
  },
  {
   "cell_type": "code",
   "execution_count": null,
   "id": "a0377894",
   "metadata": {},
   "outputs": [],
   "source": [
    "%%R\n",
    "# 2.\n",
    "install.packages(\"Rmpfr\")\n",
    "library(Rmpfr)\n",
    "print(exp(mpfr(-1, precBits=120)))\n",
    "print(exp(-1))"
   ]
  },
  {
   "cell_type": "code",
   "execution_count": null,
   "id": "58091095",
   "metadata": {},
   "outputs": [],
   "source": []
  },
  {
   "cell_type": "code",
   "execution_count": null,
   "id": "69334270",
   "metadata": {},
   "outputs": [],
   "source": []
  }
 ],
 "metadata": {
  "kernelspec": {
   "display_name": "Python 3 (ipykernel)",
   "language": "python",
   "name": "python3"
  },
  "language_info": {
   "codemirror_mode": {
    "name": "ipython",
    "version": 3
   },
   "file_extension": ".py",
   "mimetype": "text/x-python",
   "name": "python",
   "nbconvert_exporter": "python",
   "pygments_lexer": "ipython3",
   "version": "3.9.13"
  }
 },
 "nbformat": 4,
 "nbformat_minor": 5
}
